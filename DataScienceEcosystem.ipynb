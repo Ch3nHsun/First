{
 "cells": [
  {
   "cell_type": "markdown",
   "id": "a348cc23-eee0-48bd-acfc-e255fca7e323",
   "metadata": {},
   "source": [
    "# Data Science Tools and Ecosystem"
   ]
  },
  {
   "cell_type": "markdown",
   "id": "adae3538-ce05-4f57-8842-ff5f357f9396",
   "metadata": {},
   "source": [
    "Data Science Tools and Ecosystem are summarized in this Jupyter notebook."
   ]
  },
  {
   "cell_type": "markdown",
   "id": "1e4636ee-dee7-4a52-a824-0fcf11f60052",
   "metadata": {},
   "source": [
    "**Objectives:** \n",
    "- List common languages for Data Science\n",
    "- List common libraries for Data Science\n",
    "- List common tools for Data Science\n",
    "- Demostrate examples of arithmetic expression\n"
   ]
  },
  {
   "cell_type": "markdown",
   "id": "59c863fc-3a85-44e4-a9c8-73e3aeb223aa",
   "metadata": {},
   "source": [
    "Common languages used by data scientists include:\n",
    "\n",
    "1. **Python**\n",
    "2. **R**\n",
    "3. **SQL**\n"
   ]
  },
  {
   "cell_type": "markdown",
   "id": "a0815686-561c-4b67-bd24-2a6979e4d3de",
   "metadata": {},
   "source": [
    "Data scientists frequently use the following libraries:\n",
    "\n",
    "1. **pandas**\n",
    "2. **NumPy**\n",
    "3. **TensorFlow**"
   ]
  },
  {
   "cell_type": "markdown",
   "id": "99e4200c-70f0-4db5-81b5-b7fe99e89934",
   "metadata": {},
   "source": [
    "| Data Science Tools       |\n",
    "|--------------------------|\n",
    "| Jupyter Notebook         |\n",
    "| RStudio                  |\n",
    "| Visual Studio Code (VS Code) |"
   ]
  },
  {
   "cell_type": "markdown",
   "id": "ca7935d5-1fd2-4469-ab36-244dbc7695ed",
   "metadata": {},
   "source": [
    "### Examples of arithmetic expression evaluation in Python are shown below:"
   ]
  },
  {
   "cell_type": "code",
   "execution_count": 19,
   "id": "f7612aa7-25f7-4f95-9801-d9037bedf405",
   "metadata": {},
   "outputs": [
    {
     "data": {
      "text/plain": [
       "17"
      ]
     },
     "execution_count": 19,
     "metadata": {},
     "output_type": "execute_result"
    }
   ],
   "source": [
    "### Here is a basic arithmetic expression that multiplies integers before adding them.\n",
    "(3*4)+5"
   ]
  },
  {
   "cell_type": "code",
   "execution_count": 21,
   "id": "e69b03df-da86-4f57-bb4f-0783ccdd3557",
   "metadata": {},
   "outputs": [
    {
     "data": {
      "text/plain": [
       "3.3333333333333335"
      ]
     },
     "execution_count": 21,
     "metadata": {},
     "output_type": "execute_result"
    }
   ],
   "source": [
    "### This converts 200 minutes to hours by dividing the total by 60.\n",
    "200/60"
   ]
  },
  {
   "cell_type": "markdown",
   "id": "f5a881d2-7317-48a9-93e2-5ea64ddfadb5",
   "metadata": {},
   "source": [
    "## Author: \n",
    "Chen-Hsun Tsai"
   ]
  },
  {
   "cell_type": "code",
   "execution_count": null,
   "id": "cda5a571-bc91-4ced-86ba-6294e4f1b146",
   "metadata": {},
   "outputs": [],
   "source": []
  }
 ],
 "metadata": {
  "kernelspec": {
   "display_name": "Python [conda env:base] *",
   "language": "python",
   "name": "conda-base-py"
  },
  "language_info": {
   "codemirror_mode": {
    "name": "ipython",
    "version": 3
   },
   "file_extension": ".py",
   "mimetype": "text/x-python",
   "name": "python",
   "nbconvert_exporter": "python",
   "pygments_lexer": "ipython3",
   "version": "3.12.7"
  }
 },
 "nbformat": 4,
 "nbformat_minor": 5
}
